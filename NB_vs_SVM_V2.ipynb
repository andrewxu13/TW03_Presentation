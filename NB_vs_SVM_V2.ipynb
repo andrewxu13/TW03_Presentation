{
  "cells": [
    {
      "cell_type": "markdown",
      "metadata": {},
      "source": [
        "# A guide to Text Classification(NLP) using SVM and Naive Bayes with Python"
      ]
    },
    {
      "cell_type": "markdown",
      "metadata": {},
      "source": [
        "-  [Step 1](#step-1)\n",
        "-  [Step 2](#step-2)\n",
        "-  [Step 3](#step-3)\n",
        "-  [Step 4-6](#step-4---6)\n",
        "-  [Step 7](#step-7)"
      ]
    },
    {
      "cell_type": "markdown",
      "metadata": {
        "id": "0BFGAto52Zzh"
      },
      "source": [
        "# Step 1\n",
        "### install required packages"
      ]
    },
    {
      "cell_type": "code",
      "execution_count": 30,
      "metadata": {
        "id": "jtcx5RF82Zzl"
      },
      "outputs": [],
      "source": [
        "#if you don't have the required packages, install them by removing the # from the following lines\n",
        "#%pip install subprocess\n",
        "#%pip install pkg_resources\n"
      ]
    },
    {
      "cell_type": "code",
      "execution_count": 31,
      "metadata": {
        "colab": {
          "base_uri": "https://localhost:8080/"
        },
        "id": "oupF9aGH2Zzm",
        "outputId": "3067384a-9a86-4601-851a-f22055545f97"
      },
      "outputs": [
        {
          "name": "stdout",
          "output_type": "stream",
          "text": [
            "pandas is installed\n",
            "numpy is installed\n",
            "nltk is installed\n",
            "scikit-learn is installed\n",
            "Pyarrow is installed\n"
          ]
        }
      ],
      "source": [
        "#check if the required packages are installed, run the following code\n",
        "import subprocess\n",
        "import pkg_resources\n",
        "import sys\n",
        "packages = ['pandas', 'numpy', 'nltk', 'scikit-learn', 'Pyarrow']\n",
        "for package in packages:\n",
        "    try:\n",
        "        dist = pkg_resources.get_distribution(package)\n",
        "        print(f'{package} is installed')\n",
        "    except pkg_resources.DistributionNotFound:\n",
        "        print(f'{package} is NOT installed')\n",
        "        subprocess.check_call([sys.executable, \"-m\", \"pip\", \"install\", package])\n"
      ]
    },
    {
      "cell_type": "code",
      "execution_count": 32,
      "metadata": {
        "id": "-4xO_47z2Zzm"
      },
      "outputs": [],
      "source": [
        "#import packages\n",
        "import pandas as pd\n",
        "import numpy as np\n",
        "from nltk.tokenize import word_tokenize\n",
        "from nltk import pos_tag\n",
        "from nltk.corpus import stopwords\n",
        "from nltk.stem import WordNetLemmatizer\n",
        "from sklearn.preprocessing import LabelEncoder\n",
        "from collections import defaultdict\n",
        "from nltk.corpus import wordnet as wn\n",
        "from sklearn.feature_extraction.text import TfidfVectorizer\n",
        "from sklearn import model_selection, naive_bayes, svm\n",
        "from sklearn.metrics import accuracy_score"
      ]
    },
    {
      "cell_type": "markdown",
      "metadata": {
        "id": "OLA4Bub92Zzn"
      },
      "source": [
        "# Step 2\n",
        "### Add the Data using pandas"
      ]
    },
    {
      "cell_type": "code",
      "execution_count": 33,
      "metadata": {
        "id": "g2gn2Ois2Zzn"
      },
      "outputs": [],
      "source": [
        "#Set Random seed\n",
        "np.random.seed(500)"
      ]
    },
    {
      "cell_type": "code",
      "execution_count": 34,
      "metadata": {
        "colab": {
          "base_uri": "https://localhost:8080/",
          "height": 206
        },
        "id": "7hyczcBw2Zzn",
        "outputId": "40160352-963d-4807-b467-e516da60e580"
      },
      "outputs": [
        {
          "data": {
            "text/html": [
              "<div>\n",
              "<style scoped>\n",
              "    .dataframe tbody tr th:only-of-type {\n",
              "        vertical-align: middle;\n",
              "    }\n",
              "\n",
              "    .dataframe tbody tr th {\n",
              "        vertical-align: top;\n",
              "    }\n",
              "\n",
              "    .dataframe thead th {\n",
              "        text-align: right;\n",
              "    }\n",
              "</style>\n",
              "<table border=\"1\" class=\"dataframe\">\n",
              "  <thead>\n",
              "    <tr style=\"text-align: right;\">\n",
              "      <th></th>\n",
              "      <th>text</th>\n",
              "      <th>label</th>\n",
              "    </tr>\n",
              "  </thead>\n",
              "  <tbody>\n",
              "    <tr>\n",
              "      <th>0</th>\n",
              "      <td>Stuning even for the non-gamer: This sound tr...</td>\n",
              "      <td>__label__2</td>\n",
              "    </tr>\n",
              "    <tr>\n",
              "      <th>1</th>\n",
              "      <td>The best soundtrack ever to anything.: I'm re...</td>\n",
              "      <td>__label__2</td>\n",
              "    </tr>\n",
              "    <tr>\n",
              "      <th>2</th>\n",
              "      <td>Amazing!: This soundtrack is my favorite musi...</td>\n",
              "      <td>__label__2</td>\n",
              "    </tr>\n",
              "    <tr>\n",
              "      <th>3</th>\n",
              "      <td>Excellent Soundtrack: I truly like this sound...</td>\n",
              "      <td>__label__2</td>\n",
              "    </tr>\n",
              "    <tr>\n",
              "      <th>4</th>\n",
              "      <td>Remember, Pull Your Jaw Off The Floor After H...</td>\n",
              "      <td>__label__2</td>\n",
              "    </tr>\n",
              "  </tbody>\n",
              "</table>\n",
              "</div>"
            ],
            "text/plain": [
              "                                                text        label\n",
              "0   Stuning even for the non-gamer: This sound tr...  __label__2 \n",
              "1   The best soundtrack ever to anything.: I'm re...  __label__2 \n",
              "2   Amazing!: This soundtrack is my favorite musi...  __label__2 \n",
              "3   Excellent Soundtrack: I truly like this sound...  __label__2 \n",
              "4   Remember, Pull Your Jaw Off The Floor After H...  __label__2 "
            ]
          },
          "execution_count": 34,
          "metadata": {},
          "output_type": "execute_result"
        }
      ],
      "source": [
        "# Add the Data using pandas\n",
        "df = pd.read_csv('./corpus.csv',encoding='latin-1')\n",
        "Corpus = df.copy()\n",
        "Corpus.head()"
      ]
    },
    {
      "cell_type": "markdown",
      "metadata": {
        "id": "SgL_lp1p2Zzo"
      },
      "source": [
        "# Step 3  \n",
        "### Data Pre-Processing"
      ]
    },
    {
      "cell_type": "code",
      "execution_count": 35,
      "metadata": {
        "id": "wJePKMbW2-iS"
      },
      "outputs": [],
      "source": [
        "#!pip install nltk"
      ]
    },
    {
      "cell_type": "code",
      "execution_count": 36,
      "metadata": {
        "colab": {
          "base_uri": "https://localhost:8080/"
        },
        "id": "yXG-D1Qr3AvL",
        "outputId": "39d4599b-a715-42d4-9c81-015dbd72c392"
      },
      "outputs": [
        {
          "name": "stdout",
          "output_type": "stream",
          "text": [
            "/Users/axu/opt/anaconda3/bin/python: Error while finding module specification for 'nltk.downloader' (ModuleNotFoundError: No module named 'nltk')\n"
          ]
        },
        {
          "name": "stderr",
          "output_type": "stream",
          "text": [
            "[nltk_data] Error loading punkt: <urlopen error [SSL:\n",
            "[nltk_data]     CERTIFICATE_VERIFY_FAILED] certificate verify failed:\n",
            "[nltk_data]     unable to get local issuer certificate (_ssl.c:1006)>\n",
            "[nltk_data] Error loading wordnet: <urlopen error [SSL:\n",
            "[nltk_data]     CERTIFICATE_VERIFY_FAILED] certificate verify failed:\n",
            "[nltk_data]     unable to get local issuer certificate (_ssl.c:1006)>\n",
            "[nltk_data] Error loading stopwords: <urlopen error [SSL:\n",
            "[nltk_data]     CERTIFICATE_VERIFY_FAILED] certificate verify failed:\n",
            "[nltk_data]     unable to get local issuer certificate (_ssl.c:1006)>\n"
          ]
        }
      ],
      "source": [
        "import nltk\n",
        "nltk.download('punkt')\n",
        "nltk.download('wordnet')\n",
        "nltk.download('stopwords')\n",
        "!python -m nltk.downloader averaged_perceptron_tagger"
      ]
    },
    {
      "cell_type": "code",
      "execution_count": 37,
      "metadata": {
        "id": "M4Hiz_R62Zzo"
      },
      "outputs": [],
      "source": [
        "# Step - 3: Data Pre-processing - This will help in getting better results through the classification algorithms\n",
        "\n",
        "# Step - 3a : Remove blank rows if any.\n",
        "Corpus['text'].dropna(inplace=True)\n",
        "\n",
        "# Step - 3b : Change all the text to lower case. This is required as python interprets 'dog' and 'DOG' differently\n",
        "#Corpus['text'] = list(map(str, Corpus['text']))\n",
        "Corpus['text'] = [entry.lower() for entry in Corpus['text']]\n",
        "\n",
        "# Step - 3c : Tokenization : In this each entry in the corpus will be broken into set of words\n",
        "Corpus['text']= [word_tokenize(entry) for entry in Corpus['text']]\n",
        "\n",
        "# Step - 3d : Remove Stop words, Non-Numeric and perfom Word Stemming/Lemmenting.\n",
        "\n",
        "# WordNetLemmatizer requires Pos tags to understand if the word is noun or verb or adjective etc. By default it is set to Noun\n",
        "tag_map = defaultdict(lambda : wn.NOUN)\n",
        "tag_map['J'] = wn.ADJ\n",
        "tag_map['V'] = wn.VERB\n",
        "tag_map['R'] = wn.ADV\n",
        "\n",
        "for index,entry in enumerate(Corpus['text']):\n",
        "    # Declaring Empty List to store the words that follow the rules for this step\n",
        "    Final_words = []\n",
        "    # Initializing WordNetLemmatizer()\n",
        "    word_Lemmatized = WordNetLemmatizer()\n",
        "    # pos_tag function below will provide the 'tag' i.e if the word is Noun(N) or Verb(V) or something else.\n",
        "    for word, tag in pos_tag(entry):\n",
        "        # Below condition is to check for Stop words and consider only alphabets\n",
        "        if word not in stopwords.words('english') and word.isalpha():\n",
        "            word_Final = word_Lemmatized.lemmatize(word,tag_map[tag[0]])\n",
        "            Final_words.append(word_Final)\n",
        "    # The final processed set of words for each iteration will be stored in 'text_final'\n",
        "    Corpus.loc[index,'text_final'] = str(Final_words)\n",
        "\n",
        "#print(Corpus['text_final'].head())"
      ]
    },
    {
      "cell_type": "code",
      "execution_count": 40,
      "metadata": {},
      "outputs": [
        {
          "name": "stdout",
          "output_type": "stream",
          "text": [
            "0    [stuning, even, for, the, non-gamer, :, this, ...\n",
            "1    [the, best, soundtrack, ever, to, anything, .,...\n",
            "2    [amazing, !, :, this, soundtrack, is, my, favo...\n",
            "3    [excellent, soundtrack, :, i, truly, like, thi...\n",
            "4    [remember, ,, pull, your, jaw, off, the, floor...\n",
            "Name: text, dtype: object\n"
          ]
        }
      ],
      "source": [
        "print(Corpus['text'].head())"
      ]
    },
    {
      "cell_type": "code",
      "execution_count": 46,
      "metadata": {},
      "outputs": [
        {
          "name": "stdout",
          "output_type": "stream",
          "text": [
            "Number of words in the text column: 923113\n",
            "Number of words in the text_final column: 3684037\n"
          ]
        },
        {
          "data": {
            "text/plain": [
              "3684037"
            ]
          },
          "execution_count": 46,
          "metadata": {},
          "output_type": "execute_result"
        }
      ],
      "source": [
        "#count how many words there are in the text column\n",
        "print(f'Number of words in the text column: {Corpus[\"text\"].apply(len).sum()}')\n",
        "print(f'Number of words in the text_final column: {Corpus[\"text_final\"].apply(len).sum()}')\n",
        "#sum(len(item) for item in Corpus['text'])\n",
        "#sum(len(item) for item in Corpus['text_final'])\n",
        "#Corpus['text'].count()"
      ]
    },
    {
      "cell_type": "markdown",
      "metadata": {
        "id": "fxJpJvWb2Zzo"
      },
      "source": [
        "# Step 4 - 6\n",
        "### prepare the data for modelling"
      ]
    },
    {
      "cell_type": "code",
      "execution_count": 26,
      "metadata": {
        "id": "B8jpHecn2Zzp"
      },
      "outputs": [],
      "source": [
        "# Step - 4: Split the model into Train and Test Data set\n",
        "Train_X, Test_X, Train_Y, Test_Y = model_selection.train_test_split(Corpus['text_final'],Corpus['label'],test_size=0.3)\n",
        "\n",
        "# Step - 5: Label encode the target variable  - This is done to transform Categorical data of string type in the data set into numerical values\n",
        "Encoder = LabelEncoder()\n",
        "Train_Y = Encoder.fit_transform(Train_Y)\n",
        "Test_Y = Encoder.fit_transform(Test_Y)\n",
        "\n",
        "# Step - 6: Vectorize the words by using TF-IDF Vectorizer - This is done to find how important a word in document is in comaprison to the corpus\n",
        "Tfidf_vect = TfidfVectorizer(max_features=5000)\n",
        "Tfidf_vect.fit(Corpus['text_final'])\n",
        "\n",
        "Train_X_Tfidf = Tfidf_vect.transform(Train_X)\n",
        "Test_X_Tfidf = Tfidf_vect.transform(Test_X)"
      ]
    },
    {
      "cell_type": "code",
      "execution_count": 51,
      "metadata": {},
      "outputs": [
        {
          "name": "stdout",
          "output_type": "stream",
          "text": [
            "(350, 4519)\n",
            "(150, 4519)\n"
          ]
        }
      ],
      "source": [
        "print(Train_X_Tfidf.shape)\n",
        "print(Test_X_Tfidf.shape)"
      ]
    },
    {
      "cell_type": "markdown",
      "metadata": {
        "id": "bX_d55lG2Zzp"
      },
      "source": [
        "# Step 7\n",
        "### testing different models for accuracy"
      ]
    },
    {
      "cell_type": "code",
      "execution_count": 17,
      "metadata": {
        "colab": {
          "base_uri": "https://localhost:8080/"
        },
        "id": "FHYfG9gM2Zzp",
        "outputId": "d4c7e097-caae-4ab1-c5dc-19181cb22b16"
      },
      "outputs": [
        {
          "name": "stdout",
          "output_type": "stream",
          "text": [
            "Training time for Naive: 0.0029108524322509766 seconds\n",
            "Prediction time for Naive: 0.0007252693176269531 seconds\n",
            "Naive Bayes Accuracy Score ->  80.0\n",
            "Training time for SVM: 0.03368091583251953 seconds\n",
            "Prediction time for SVM: 0.01083993911743164 seconds\n",
            "SVM Accuracy Score ->  84.0\n"
          ]
        }
      ],
      "source": [
        "# Step - 7: Now we can run different algorithms to classify out data check for accuracy\n",
        "\n",
        "#for model running time, we will use the time package\n",
        "import time\n",
        "\n",
        "# Classifier - Algorithm - Naive Bayes\n",
        "# fit the training dataset on the classifier\n",
        "\n",
        "Naive = naive_bayes.MultinomialNB()\n",
        "\n",
        "# Measure the start time\n",
        "start_time = time.time()\n",
        "Naive.fit(Train_X_Tfidf,Train_Y)\n",
        "# Measure the end time after training\n",
        "end_time = time.time()\n",
        "\n",
        "training_runtime_Naive = time.time() - start_time\n",
        "\n",
        "print(f\"Training time for Naive: {training_runtime_Naive} seconds\")\n",
        "\n",
        "# predict the labels on validation dataset\n",
        "\n",
        "# Measure the start time for predictions\n",
        "start_time = time.time()\n",
        "predictions_NB = Naive.predict(Test_X_Tfidf)\n",
        "# Measure the end time for predictions\n",
        "end_time = time.time()\n",
        "# Use accuracy_score function to get the accuracy\n",
        "prediction_runtime_Naive = end_time - start_time\n",
        "print(f\"Prediction time for Naive: {prediction_runtime_Naive} seconds\")\n",
        "print(\"Naive Bayes Accuracy Score -> \",accuracy_score(predictions_NB, Test_Y)*100)\n",
        "\n",
        "\n",
        "# Classifier - Algorithm - SVM\n",
        "# fit the training dataset on the classifier\n",
        "SVM = svm.SVC(C=1.0, kernel='linear', degree=3, gamma='auto')\n",
        "# Measure the start time\n",
        "start_time = time.time()\n",
        "SVM.fit(Train_X_Tfidf,Train_Y)\n",
        "# Measure the end time after training\n",
        "end_time = time.time()\n",
        "training_runtime_SVM = time.time() - start_time\n",
        "print(f\"Training time for SVM: {training_runtime_SVM} seconds\")\n",
        "# Measure the start time\n",
        "start_time = time.time()\n",
        "# predict the labels on validation dataset\n",
        "predictions_SVM = SVM.predict(Test_X_Tfidf)\n",
        "# Measure the end time after training\n",
        "end_time = time.time()\n",
        "prediction_runtime_SVM = time.time() - start_time\n",
        "print(f\"Prediction time for SVM: {prediction_runtime_SVM} seconds\")\n",
        "# Use accuracy_score function to get the accuracy\n",
        "print(\"SVM Accuracy Score -> \",accuracy_score(predictions_SVM, Test_Y)*100)\n"
      ]
    },
    {
      "cell_type": "code",
      "execution_count": 10,
      "metadata": {
        "id": "d6WM3nWr-nW_"
      },
      "outputs": [],
      "source": []
    }
  ],
  "metadata": {
    "colab": {
      "provenance": []
    },
    "kernelspec": {
      "display_name": "Python 3",
      "language": "python",
      "name": "python3"
    },
    "language_info": {
      "codemirror_mode": {
        "name": "ipython",
        "version": 3
      },
      "file_extension": ".py",
      "mimetype": "text/x-python",
      "name": "python",
      "nbconvert_exporter": "python",
      "pygments_lexer": "ipython3",
      "version": "3.11.5"
    },
    "orig_nbformat": 4
  },
  "nbformat": 4,
  "nbformat_minor": 0
}
